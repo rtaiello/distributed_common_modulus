{
 "nbformat": 4,
 "nbformat_minor": 0,
 "metadata": {
  "colab": {
   "name": "distributed_common_modulus.ipynb",
   "provenance": []
  },
  "kernelspec": {
   "name": "python3",
   "display_name": "Python 3"
  },
  "language_info": {
   "name": "python"
  }
 },
 "cells": [
  {
   "cell_type": "code",
   "execution_count": 1,
   "metadata": {
    "id": "h6JC-Btow-IT",
    "pycharm": {
     "name": "#%%\n"
    }
   },
   "outputs": [],
   "source": [
    "! pip install -q sympy"
   ]
  },
  {
   "cell_type": "code",
   "source": [
    "import secrets\n",
    "import math\n",
    "from typing import List,Tuple\n",
    "\n",
    "import sympy\n"
   ],
   "metadata": {
    "id": "Lp6PShS5xqwE",
    "pycharm": {
     "name": "#%%\n"
    }
   },
   "execution_count": 2,
   "outputs": []
  },
  {
   "cell_type": "code",
   "source": [
    "NUM_PLAYERS: int = 3\n",
    "CORRECT_PARAM_BIPRIME: int = 40\n",
    "\n",
    "KEY_LENGTH = 128\n",
    "PRIME_LENGTH = KEY_LENGTH // 2\n",
    "PRIME_THRESHOLD = 2000\n",
    "if PRIME_LENGTH < math.log(PRIME_THRESHOLD):\n",
    "    PRIME_THRESHOLD = 1\n",
    "PRIME_LIST = list(sympy.primerange(3, PRIME_THRESHOLD + 1))\n",
    "\"\"\"\n",
    "The additive shares of $p$ and $q$ are reshard to a Shamir secret sharing modulo a large prime P.\n",
    "To assure P > N, we choose a prime P of at least 2*(prime_length + log_2 num_of_players) bits.\n",
    "\"\"\"\n",
    "SHAMIR_LENGTH = 2 * (PRIME_LENGTH + math.ceil((math.log2(NUM_PLAYERS))))\n",
    "PRIME = sympy.nextprime(2 ** SHAMIR_LENGTH)"
   ],
   "metadata": {
    "id": "1NNlBXxpzFPt",
    "pycharm": {
     "name": "#%%\n"
    }
   },
   "execution_count": 3,
   "outputs": []
  },
  {
   "cell_type": "code",
   "source": [
    "def extended_euclidean(num_a: int, num_b: int) -> Tuple[int, int, int]:\n",
    "    \"\"\"\n",
    "    Perform the extended euclidean algorithm on the input numbers.\n",
    "    The method returns gcd, x, y, such that a*x + b*y = gcd.\n",
    "\n",
    "    :param num_a: First number a.\n",
    "    :param num_b: Second number b.\n",
    "    :return: Tuple containing gcd, x, and y, such that  a*x + b*y = gcd.\n",
    "    \"\"\"\n",
    "    # a*x + b*y = gcd\n",
    "    x_old, x_cur, y_old, y_cur = 0, 1, 1, 0\n",
    "    while num_a != 0:\n",
    "        quotient, num_b, num_a = num_b // num_a, num_a, num_b % num_a\n",
    "        y_old, y_cur = y_cur, y_old - quotient * y_cur\n",
    "        x_old, x_cur = x_cur, x_old - quotient * x_cur\n",
    "    return num_b, x_old, y_old\n",
    "\n",
    "def mod_inv(value: int, modulus: int) -> int:\n",
    "    \"\"\"\n",
    "    Compute the inverse of a number, given the modulus of the group.\n",
    "    Note that the inverse might not exist.\n",
    "\n",
    "    :param value: The number to be inverted.\n",
    "    :param modulus: The group modulus.\n",
    "    :raise ZeroDivisionError: Raised when the inverse of the value does not exist.\n",
    "    :return: The inverse of a under the modulus.\n",
    "    \"\"\"\n",
    "    value %= modulus\n",
    "    # else\n",
    "    gcd_, inverse, _ = extended_euclidean(value, modulus)\n",
    "    if gcd_ != 1:\n",
    "        raise ZeroDivisionError(f\"Inverse of {value} mod {modulus} does not exist.\")\n",
    "    return inverse\n",
    "\n",
    "def pow_mod(base: int, exponent: int, modulus: int) -> int:\n",
    "    \"\"\"\n",
    "    Compute base**exponent % modulus.\n",
    "\n",
    "    :param base: base\n",
    "    :param exponent: exponent\n",
    "    :param modulus: modulus\n",
    "    :return: base**exponent % modulus\n",
    "    \"\"\"\n",
    "    if exponent < 0:\n",
    "        return pow(mod_inv(base, modulus), -exponent, modulus)\n",
    "    # else\n",
    "    return pow(base, exponent, modulus)"
   ],
   "metadata": {
    "id": "FdfzMSFfxpms",
    "pycharm": {
     "name": "#%%\n"
    }
   },
   "execution_count": 4,
   "outputs": []
  },
  {
   "cell_type": "code",
   "source": [
    "def small_prime_divisors_test(prime_list: List[int], modulus: int) -> bool:\n",
    "    \"\"\"\n",
    "    Function to test $N$ for small prime divisors\n",
    "    :param prime_list: list of prime numbers\n",
    "    :param modulus: modulus $N$\n",
    "    :return: true if $N$ has small divisors and false otherwise\n",
    "    \"\"\"\n",
    "    for prime in prime_list:\n",
    "        if modulus % prime == 0:\n",
    "            return True\n",
    "    return False"
   ],
   "metadata": {
    "id": "fCtV6NKExitc",
    "pycharm": {
     "name": "#%%\n"
    }
   },
   "execution_count": 5,
   "outputs": []
  },
  {
   "cell_type": "code",
   "source": [
    "def mul_v_and_check(v_values: List[int], modulus: int) -> bool:\n",
    "    product = 1\n",
    "    for idx, v in enumerate(v_values):\n",
    "        if idx != 0:\n",
    "            product *= v\n",
    "    value1 = v_values[0]\n",
    "    is_biprime = ((value1 % modulus) == (product % modulus)) or (\n",
    "            (value1 % modulus) == (-product % modulus)\n",
    "    )\n",
    "\n",
    "    return is_biprime\n",
    "\n",
    "def biprime_test(modulus:int, p_additive_shares: List[int], q_additive_shares: List[int]) -> bool:\n",
    "    \"\"\"\n",
    "     Function to test for biprimality of $N$\n",
    "\n",
    "    :param modulus: modulus $N$\n",
    "    :param p_additive_shares: additive shares of $p$\n",
    "    :param q_additive_shares: additive shares of $q$\n",
    "    :return: true if $N$ is biprime and false otherwise\n",
    "    \"\"\"\n",
    "    counter = 0\n",
    "    while counter < CORRECT_PARAM_BIPRIME:\n",
    "        test_values = []\n",
    "        for index in range(0, NUM_PLAYERS):\n",
    "            test_value_index = secrets.randbelow(modulus)\n",
    "            test_values.append(test_value_index)\n",
    "        test_value =  sum(test_values) % modulus\n",
    "\n",
    "        if sympy.jacobi_symbol(test_value, modulus) == 1:\n",
    "            v_values = []\n",
    "\n",
    "            for index in range(0, NUM_PLAYERS):\n",
    "                if index == 0:\n",
    "                    v_value = int(\n",
    "                        pow_mod(\n",
    "                            test_value,\n",
    "                            (\n",
    "                                    modulus\n",
    "                                    - p_additive_shares[index]\n",
    "                                    - q_additive_shares[index]\n",
    "                                    + 1\n",
    "                            )\n",
    "                            // 4,\n",
    "                            modulus,\n",
    "                        )\n",
    "                    )\n",
    "                else:\n",
    "                    v_value = int(\n",
    "                        pow_mod(\n",
    "                            test_value,\n",
    "                            (p_additive_shares[index] + q_additive_shares[index]) // 4,\n",
    "                            modulus,\n",
    "                        )\n",
    "                    )\n",
    "                v_values.append(v_value)\n",
    "\n",
    "            if mul_v_and_check(v_values=v_values,modulus=modulus):\n",
    "                counter += 1\n",
    "            else:\n",
    "                return False\n",
    "    return True"
   ],
   "metadata": {
    "id": "eG9wh-Kmxba8",
    "pycharm": {
     "name": "#%%\n"
    }
   },
   "execution_count": 6,
   "outputs": []
  },
  {
   "cell_type": "code",
   "source": [
    "def run_protocol():\n",
    "\n",
    "    modulus: int = 0\n",
    "    bip: bool = False\n",
    "    bip_error_counter: int = 0\n",
    "    sp_error_counter: int = 0\n",
    "    while not bip:\n",
    "        p_additive_shares: List[int] = []\n",
    "        q_additive_shares: List[int] = []\n",
    "        for index in range(0, NUM_PLAYERS):\n",
    "            if index == 0:\n",
    "                mod4 = 3\n",
    "            else:\n",
    "                mod4 = 0\n",
    "            # Generate a prime $p$ of length $prime_length$ bits\n",
    "            p_random_number = secrets.randbits(PRIME_LENGTH - 3) << 2\n",
    "            p_additive_share: int = 2 ** (PRIME_LENGTH - 1) + p_random_number + mod4\n",
    "            p_additive_shares.append(p_additive_share)\n",
    "\n",
    "            # Generate a prime $q$ of length $prime_length$ bits\n",
    "            q_random_number = secrets.randbits(PRIME_LENGTH - 3) << 2\n",
    "            q_additive_share: int = 2 ** (PRIME_LENGTH - 1) + q_random_number + mod4\n",
    "            q_additive_shares.append(q_additive_share)\n",
    "        \n",
    "\n",
    "        modulus = ((sum(p_additive_shares) % PRIME) * (sum(q_additive_shares) % PRIME)) % PRIME\n",
    "\n",
    "\n",
    "        if not small_prime_divisors_test(PRIME_LIST, modulus):\n",
    "            bip = biprime_test(modulus=modulus,p_additive_shares=p_additive_shares,q_additive_shares=q_additive_shares)\n",
    "            if not bip:\n",
    "                bip_error_counter += 1\n",
    "        else:\n",
    "            sp_error_counter += 1\n",
    "    return bip_error_counter, sp_error_counter, p_additive_shares, q_additive_shares, modulus"
   ],
   "metadata": {
    "id": "6b5ZXd0qzu6Q",
    "pycharm": {
     "name": "#%%\n"
    }
   },
   "execution_count": 7,
   "outputs": []
  },
  {
   "cell_type": "code",
   "source": [
    "bip_error_counter, sp_error_counter, p_additive_shares, q_additive_shares, modulus = run_protocol()"
   ],
   "metadata": {
    "id": "HBPh83QN2Rur",
    "pycharm": {
     "name": "#%%\n"
    }
   },
   "execution_count": 8,
   "outputs": []
  },
  {
   "cell_type": "code",
   "source": [
    "p = sum(p_additive_shares) % PRIME\n",
    "q = sum(q_additive_shares) % PRIME\n",
    "assert sympy.isprime(p), \"p is not a prime number\"\n",
    "assert sympy.isprime(q), \"q is not a prime number\""
   ],
   "metadata": {
    "id": "nWOlQH-L3KPw",
    "pycharm": {
     "name": "#%%\n"
    }
   },
   "execution_count": 9,
   "outputs": []
  },
  {
   "cell_type": "code",
   "source": [
    "print(f\"biprime error counter: {bip_error_counter} - small prime divisors error counter: {sp_error_counter}\")\n",
    "print(f\"p: {p} - q: {q}\")\n",
    "print(f\"modulus: {modulus}\")"
   ],
   "metadata": {
    "colab": {
     "base_uri": "https://localhost:8080/"
    },
    "id": "danhv-8d2Tgd",
    "outputId": "657ef83c-6e5b-47d2-f3d3-ddf31030af76",
    "pycharm": {
     "name": "#%%\n"
    }
   },
   "execution_count": 10,
   "outputs": [
    {
     "name": "stdout",
     "output_type": "stream",
     "text": [
      "biprime error counter: 0 - small prime divisors error counter: 17\n",
      "p: 44349117179578914743 - q: 40503326637012665519\n",
      "modulus: 1796286779187634674539975092447676846617\n"
     ]
    }
   ]
  },
  {
   "cell_type": "code",
   "source": [],
   "metadata": {
    "id": "Q7KDQaoA29Rl",
    "pycharm": {
     "name": "#%%\n"
    }
   },
   "execution_count": 10,
   "outputs": []
  }
 ]
}